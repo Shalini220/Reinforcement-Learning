{
  "cells": [
    {
      "cell_type": "markdown",
      "metadata": {
        "id": "wON2nVET2set",
        "tags": []
      },
      "source": [
        "\n",
        "# Multi-armed bandits\n",
        "## Demo and Preliminaries\n",
        "\n",
        "We will begin by getting familiar with the basic problem setup before we dig in to the actual assignement problems. Let's start by loading all the required libraries for this notebook. For generating plots you must have `ipympl` installed and `jupyter-matplotlib` extension installed and enabled."
      ]
    },
    {
      "cell_type": "code",
      "execution_count": 33,
      "metadata": {
        "colab": {
          "base_uri": "https://localhost:8080/"
        },
        "id": "H89KRE9N2seu",
        "outputId": "56c6f45e-5b2e-4a12-dbd0-f25047f1e83d"
      },
      "outputs": [
        {
          "name": "stdout",
          "output_type": "stream",
          "text": [
            "^C\n",
            "Requirement already satisfied: pip in c:\\users\\shali\\anaconda3\\lib\\site-packages (24.0)\n",
            "Requirement already satisfied: gymnasium in c:\\users\\shali\\anaconda3\\lib\\site-packages (0.29.1)\n",
            "Requirement already satisfied: numpy>=1.21.0 in c:\\users\\shali\\anaconda3\\lib\\site-packages (from gymnasium) (1.24.3)\n",
            "Requirement already satisfied: cloudpickle>=1.2.0 in c:\\users\\shali\\anaconda3\\lib\\site-packages (from gymnasium) (2.2.1)\n",
            "Requirement already satisfied: typing-extensions>=4.3.0 in c:\\users\\shali\\anaconda3\\lib\\site-packages (from gymnasium) (4.7.1)\n",
            "Requirement already satisfied: farama-notifications>=0.0.1 in c:\\users\\shali\\anaconda3\\lib\\site-packages (from gymnasium) (0.0.4)\n",
            "Requirement already satisfied: ipympl in c:\\users\\shali\\anaconda3\\lib\\site-packages (0.9.3)\n",
            "Requirement already satisfied: ipython<9 in c:\\users\\shali\\anaconda3\\lib\\site-packages (from ipympl) (8.15.0)\n",
            "Requirement already satisfied: numpy in c:\\users\\shali\\anaconda3\\lib\\site-packages (from ipympl) (1.24.3)\n",
            "Requirement already satisfied: ipython-genutils in c:\\users\\shali\\anaconda3\\lib\\site-packages (from ipympl) (0.2.0)\n",
            "Requirement already satisfied: pillow in c:\\users\\shali\\anaconda3\\lib\\site-packages (from ipympl) (10.0.1)\n",
            "Requirement already satisfied: traitlets<6 in c:\\users\\shali\\anaconda3\\lib\\site-packages (from ipympl) (5.7.1)\n",
            "Requirement already satisfied: ipywidgets<9,>=7.6.0 in c:\\users\\shali\\anaconda3\\lib\\site-packages (from ipympl) (8.0.4)\n",
            "Requirement already satisfied: matplotlib<4,>=3.4.0 in c:\\users\\shali\\anaconda3\\lib\\site-packages (from ipympl) (3.7.2)\n",
            "Requirement already satisfied: backcall in c:\\users\\shali\\anaconda3\\lib\\site-packages (from ipython<9->ipympl) (0.2.0)\n",
            "Requirement already satisfied: decorator in c:\\users\\shali\\anaconda3\\lib\\site-packages (from ipython<9->ipympl) (5.1.1)\n",
            "Requirement already satisfied: jedi>=0.16 in c:\\users\\shali\\anaconda3\\lib\\site-packages (from ipython<9->ipympl) (0.18.1)\n",
            "Requirement already satisfied: matplotlib-inline in c:\\users\\shali\\anaconda3\\lib\\site-packages (from ipython<9->ipympl) (0.1.6)\n",
            "Requirement already satisfied: pickleshare in c:\\users\\shali\\anaconda3\\lib\\site-packages (from ipython<9->ipympl) (0.7.5)\n",
            "Requirement already satisfied: prompt-toolkit!=3.0.37,<3.1.0,>=3.0.30 in c:\\users\\shali\\anaconda3\\lib\\site-packages (from ipython<9->ipympl) (3.0.36)\n",
            "Requirement already satisfied: pygments>=2.4.0 in c:\\users\\shali\\anaconda3\\lib\\site-packages (from ipython<9->ipympl) (2.15.1)\n",
            "Requirement already satisfied: stack-data in c:\\users\\shali\\anaconda3\\lib\\site-packages (from ipython<9->ipympl) (0.2.0)\n",
            "Requirement already satisfied: colorama in c:\\users\\shali\\anaconda3\\lib\\site-packages (from ipython<9->ipympl) (0.4.6)\n",
            "Requirement already satisfied: ipykernel>=4.5.1 in c:\\users\\shali\\anaconda3\\lib\\site-packages (from ipywidgets<9,>=7.6.0->ipympl) (6.25.0)\n",
            "Requirement already satisfied: widgetsnbextension~=4.0 in c:\\users\\shali\\anaconda3\\lib\\site-packages (from ipywidgets<9,>=7.6.0->ipympl) (4.0.5)\n",
            "Requirement already satisfied: jupyterlab-widgets~=3.0 in c:\\users\\shali\\anaconda3\\lib\\site-packages (from ipywidgets<9,>=7.6.0->ipympl) (3.0.5)\n",
            "Requirement already satisfied: contourpy>=1.0.1 in c:\\users\\shali\\anaconda3\\lib\\site-packages (from matplotlib<4,>=3.4.0->ipympl) (1.0.5)\n",
            "Requirement already satisfied: cycler>=0.10 in c:\\users\\shali\\anaconda3\\lib\\site-packages (from matplotlib<4,>=3.4.0->ipympl) (0.11.0)\n",
            "Requirement already satisfied: fonttools>=4.22.0 in c:\\users\\shali\\anaconda3\\lib\\site-packages (from matplotlib<4,>=3.4.0->ipympl) (4.25.0)\n",
            "Requirement already satisfied: kiwisolver>=1.0.1 in c:\\users\\shali\\anaconda3\\lib\\site-packages (from matplotlib<4,>=3.4.0->ipympl) (1.4.4)\n",
            "Requirement already satisfied: packaging>=20.0 in c:\\users\\shali\\anaconda3\\lib\\site-packages (from matplotlib<4,>=3.4.0->ipympl) (23.1)\n",
            "Requirement already satisfied: pyparsing<3.1,>=2.3.1 in c:\\users\\shali\\anaconda3\\lib\\site-packages (from matplotlib<4,>=3.4.0->ipympl) (3.0.9)\n",
            "Requirement already satisfied: python-dateutil>=2.7 in c:\\users\\shali\\anaconda3\\lib\\site-packages (from matplotlib<4,>=3.4.0->ipympl) (2.8.2)\n",
            "Requirement already satisfied: comm>=0.1.1 in c:\\users\\shali\\anaconda3\\lib\\site-packages (from ipykernel>=4.5.1->ipywidgets<9,>=7.6.0->ipympl) (0.1.2)\n",
            "Requirement already satisfied: debugpy>=1.6.5 in c:\\users\\shali\\anaconda3\\lib\\site-packages (from ipykernel>=4.5.1->ipywidgets<9,>=7.6.0->ipympl) (1.6.7)\n",
            "Requirement already satisfied: jupyter-client>=6.1.12 in c:\\users\\shali\\anaconda3\\lib\\site-packages (from ipykernel>=4.5.1->ipywidgets<9,>=7.6.0->ipympl) (7.4.9)\n",
            "Requirement already satisfied: jupyter-core!=5.0.*,>=4.12 in c:\\users\\shali\\anaconda3\\lib\\site-packages (from ipykernel>=4.5.1->ipywidgets<9,>=7.6.0->ipympl) (5.3.0)\n",
            "Requirement already satisfied: nest-asyncio in c:\\users\\shali\\anaconda3\\lib\\site-packages (from ipykernel>=4.5.1->ipywidgets<9,>=7.6.0->ipympl) (1.5.6)\n",
            "Requirement already satisfied: psutil in c:\\users\\shali\\anaconda3\\lib\\site-packages (from ipykernel>=4.5.1->ipywidgets<9,>=7.6.0->ipympl) (5.9.0)\n",
            "Requirement already satisfied: pyzmq>=20 in c:\\users\\shali\\anaconda3\\lib\\site-packages (from ipykernel>=4.5.1->ipywidgets<9,>=7.6.0->ipympl) (23.2.0)\n",
            "Requirement already satisfied: tornado>=6.1 in c:\\users\\shali\\anaconda3\\lib\\site-packages (from ipykernel>=4.5.1->ipywidgets<9,>=7.6.0->ipympl) (6.3.2)\n",
            "Requirement already satisfied: parso<0.9.0,>=0.8.0 in c:\\users\\shali\\anaconda3\\lib\\site-packages (from jedi>=0.16->ipython<9->ipympl) (0.8.3)\n",
            "Requirement already satisfied: wcwidth in c:\\users\\shali\\anaconda3\\lib\\site-packages (from prompt-toolkit!=3.0.37,<3.1.0,>=3.0.30->ipython<9->ipympl) (0.2.5)\n",
            "Requirement already satisfied: six>=1.5 in c:\\users\\shali\\anaconda3\\lib\\site-packages (from python-dateutil>=2.7->matplotlib<4,>=3.4.0->ipympl) (1.16.0)\n",
            "Requirement already satisfied: executing in c:\\users\\shali\\anaconda3\\lib\\site-packages (from stack-data->ipython<9->ipympl) (0.8.3)\n",
            "Requirement already satisfied: asttokens in c:\\users\\shali\\anaconda3\\lib\\site-packages (from stack-data->ipython<9->ipympl) (2.0.5)\n",
            "Requirement already satisfied: pure-eval in c:\\users\\shali\\anaconda3\\lib\\site-packages (from stack-data->ipython<9->ipympl) (0.2.2)\n",
            "Requirement already satisfied: entrypoints in c:\\users\\shali\\anaconda3\\lib\\site-packages (from jupyter-client>=6.1.12->ipykernel>=4.5.1->ipywidgets<9,>=7.6.0->ipympl) (0.4)\n",
            "Requirement already satisfied: platformdirs>=2.5 in c:\\users\\shali\\anaconda3\\lib\\site-packages (from jupyter-core!=5.0.*,>=4.12->ipykernel>=4.5.1->ipywidgets<9,>=7.6.0->ipympl) (3.10.0)\n",
            "Requirement already satisfied: pywin32>=300 in c:\\users\\shali\\anaconda3\\lib\\site-packages (from jupyter-core!=5.0.*,>=4.12->ipykernel>=4.5.1->ipywidgets<9,>=7.6.0->ipympl) (305.1)\n",
            "Requirement already satisfied: matplotlib in c:\\users\\shali\\anaconda3\\lib\\site-packages (3.7.2)\n",
            "Requirement already satisfied: contourpy>=1.0.1 in c:\\users\\shali\\anaconda3\\lib\\site-packages (from matplotlib) (1.0.5)\n",
            "Requirement already satisfied: cycler>=0.10 in c:\\users\\shali\\anaconda3\\lib\\site-packages (from matplotlib) (0.11.0)\n",
            "Requirement already satisfied: fonttools>=4.22.0 in c:\\users\\shali\\anaconda3\\lib\\site-packages (from matplotlib) (4.25.0)\n",
            "Requirement already satisfied: kiwisolver>=1.0.1 in c:\\users\\shali\\anaconda3\\lib\\site-packages (from matplotlib) (1.4.4)\n",
            "Requirement already satisfied: numpy>=1.20 in c:\\users\\shali\\anaconda3\\lib\\site-packages (from matplotlib) (1.24.3)\n",
            "Requirement already satisfied: packaging>=20.0 in c:\\users\\shali\\anaconda3\\lib\\site-packages (from matplotlib) (23.1)\n",
            "Requirement already satisfied: pillow>=6.2.0 in c:\\users\\shali\\anaconda3\\lib\\site-packages (from matplotlib) (10.0.1)\n",
            "Requirement already satisfied: pyparsing<3.1,>=2.3.1 in c:\\users\\shali\\anaconda3\\lib\\site-packages (from matplotlib) (3.0.9)\n",
            "Requirement already satisfied: python-dateutil>=2.7 in c:\\users\\shali\\anaconda3\\lib\\site-packages (from matplotlib) (2.8.2)\n",
            "Requirement already satisfied: six>=1.5 in c:\\users\\shali\\anaconda3\\lib\\site-packages (from python-dateutil>=2.7->matplotlib) (1.16.0)\n",
            "Requirement already satisfied: tqdm in c:\\users\\shali\\anaconda3\\lib\\site-packages (4.65.0)\n",
            "Requirement already satisfied: colorama in c:\\users\\shali\\anaconda3\\lib\\site-packages (from tqdm) (0.4.6)\n"
          ]
        }
      ],
      "source": [
        "# Import necessary libraries\n",
        "!python.exe -m pip install --upgrade pip\n",
        "!pip install \"gymnasium\"\n",
        "!pip install ipympl\n",
        "!pip install matplotlib\n",
        "!pip install tqdm\n",
        "%matplotlib widget\n",
        "import numpy as np\n",
        "import matplotlib.pyplot as plt\n",
        "from matplotlib.animation import FuncAnimation\n",
        "import gymnasium as gym\n",
        "from tqdm import tqdm\n",
        "import time"
      ]
    },
    {
      "cell_type": "markdown",
      "metadata": {
        "id": "9O01qmZN2sev"
      },
      "source": [
        "## Scenario\n",
        "\n",
        "The Multi-Armed Bandit describes a situation in which an agent has only one state, and multiple actions to interact with the environment. Each action gives a random reward, centered on an unkown value. Our agent wants to maximize the reward received, which means it wants to find the action that yields a higher reward. Based on this, let's build the scenario.\n",
        "\n",
        "We're going to implement the multi-armed bandit environment using OpenAI's gym interface. Also, our implementation will be vectorized for the sake of optimization. This allows us to run multiple agents on multiple environments at the same time. The code below is based on [this implementation](https://github.com/diegoalejogm/openai-k-armed-bandits)"
      ]
    },
    {
      "cell_type": "code",
      "execution_count": null,
      "metadata": {
        "id": "Vz6nX5I_2sev"
      },
      "outputs": [],
      "source": [
        "from gymnasium import spaces\n",
        "from gymnasium.utils import seeding\n",
        "import gymnasium as gym\n",
        "\n",
        "class ArmedBanditsEnv(gym.Env):\n",
        "    \"\"\"\n",
        "    The famous k-Armed Bandit Environment, implemented for the gym interface.\n",
        "    Initialization requires an array of length equals to k, where each item is\n",
        "    a function which samples from a specified distribution.\n",
        "    \"\"\"\n",
        "    metadata = {'render.modes': ['human']}\n",
        "\n",
        "    def __init__(self, mean, stddev):\n",
        "        assert len(mean.shape) == 2\n",
        "        assert len(stddev.shape) == 2\n",
        "\n",
        "        super(ArmedBanditsEnv, self).__init__()\n",
        "        # Define action and observation space\n",
        "        self.num_bandits = mean.shape[1]\n",
        "        self.num_experiments = mean.shape[0]\n",
        "        self.action_space = spaces.Discrete(self.num_bandits)\n",
        "\n",
        "        # Theres one state only in the k-armed bandits problem\n",
        "        self.observation_space = spaces.Discrete(1)\n",
        "        self.mean = mean\n",
        "        self.stddev = stddev\n",
        "\n",
        "    def step(self, action):\n",
        "        # Sample from the specified bandit using it's reward distribution\n",
        "        assert (action < self.num_bandits).all()\n",
        "\n",
        "        sampled_means = self.mean[np.arange(self.num_experiments),action]\n",
        "        sampled_stddevs = self.stddev[np.arange(self.num_experiments),action]\n",
        "\n",
        "        reward = np.random.normal(loc=sampled_means, scale=sampled_stddevs, size=(1,self.num_experiments))\n",
        "\n",
        "        # Return a constant state of 0. Our environment has no terminal state\n",
        "        observation, done, info = 0, False, dict()\n",
        "        return observation, reward, done, info\n",
        "\n",
        "    def reset(self):\n",
        "        return 0\n",
        "\n",
        "    def render(self, mode='human', close=False):\n",
        "        pass\n",
        "\n",
        "    def _seed(self, seed=None):\n",
        "        self.np_random, seed = seeding.np.random(seed)\n",
        "        return [seed]\n",
        "\n",
        "    def close(self):\n",
        "        pass\n",
        "\n",
        "\n",
        "class ArmedBanditsGaussian(ArmedBanditsEnv):\n",
        "    def __init__(self, num_experiments=1, num_bandits=3):\n",
        "        self.means = np.random.normal(size=(num_experiments, num_bandits))\n",
        "\n",
        "        ArmedBanditsEnv.__init__(self, self.means, np.ones((num_experiments, num_bandits)))"
      ]
    },
    {
      "cell_type": "markdown",
      "metadata": {
        "id": "fWmKZ0uX2sew"
      },
      "source": [
        "Here we're creating two classes, `ArmedBanditsEnv` is the main class, while `ArmedBanditsGaussian` is an auxiliary class that allows us to easily create an environment with random mean rewards for each action. Our environment receives numpy arrays for the means and standard deviations for each action. The dimensions of this arrays are described as `num_experiments`x`num_bandits`. Taking a step requires a numpy vector of size `num_experiments`, where each value specifies which action to take for each experiment. The step functions returns, among other information, a vector of reward obtained for each experiment. Let's see this in action:"
      ]
    },
    {
      "cell_type": "code",
      "execution_count": null,
      "metadata": {
        "colab": {
          "base_uri": "https://localhost:8080/"
        },
        "id": "rc9rBv-T2sex",
        "outputId": "73f66c80-6c1b-4fc5-e7a8-b7f780f934c6"
      },
      "outputs": [],
      "source": [
        "means = np.array([[5, 1, 0, -10]]) # The mean for a four-armed bandit. Single experiment\n",
        "stdev = np.array([[1, 0.1, 5, 1]]) # The standard deviation for a four-armed bandit.\n",
        "\n",
        "env = ArmedBanditsEnv(means, stdev) # Create the environment\n",
        "\n",
        "for i in range(4):\n",
        "    action = np.array([[i]])\n",
        "    _, reward, _, _ = env.step(action)\n",
        "    print(\"Bandit:\", i, \" gave a reward of:\", reward[0])"
      ]
    },
    {
      "cell_type": "markdown",
      "metadata": {
        "id": "tSsziz9u2sey"
      },
      "source": [
        "## Evaluating our actions"
      ]
    },
    {
      "cell_type": "markdown",
      "metadata": {
        "id": "P8g7dhvZ2sez"
      },
      "source": [
        "In order to learn something from our interaction with the environment, we need to know how exactly we determine the value of our actions, as well as how to keep that value up to date. A simple strategy our agents can take is to calculate the expected return for each action. This can be done through experience by taking the average of previous rewards given by a determined action.\n",
        "\n",
        "For example, we can use the next list of rewards to calculate the expected return of the chosen action:\n",
        "\n",
        "$\\bar{\\mu}_n = \\dfrac{R_1+R_2+\\dots+R_n}{n}$\n",
        "\n",
        "Having to store all the previously seen rewards to calculate the value of an action is cumbersome, inefficient and unnecessary. We can derive another form of average, called *Incremental average update rule*, which only requires us to know the previous average $\\bar{\\mu}_{n-1}$ and the number $n$:\n",
        "\n",
        "$\\bar{\\mu}_n = \\bar{\\mu}_{n-1} + \\dfrac{1}{n}(R_n - \\bar{\\mu}_{n-1})$\n",
        "\n",
        "Here's a small demonstration of this function at work"
      ]
    },
    {
      "cell_type": "code",
      "execution_count": null,
      "metadata": {
        "colab": {
          "base_uri": "https://localhost:8080/"
        },
        "id": "_hvBWbzZ2sez",
        "outputId": "645bd8fe-9160-4774-fdca-f02680baeb79"
      },
      "outputs": [],
      "source": [
        "def inc_avg(prev_avg, new_val, n):\n",
        "    return prev_avg + 1/n*(new_val - prev_avg)\n",
        "\n",
        "# Obtain the previous average\n",
        "vals = np.array([4.5, 5.04, 5.32, 4.8, 5.11])\n",
        "prev_avg = vals.mean()\n",
        "\n",
        "# Calculate a new average using the incremental average update function\n",
        "new_val = 5.18\n",
        "new_avg = inc_avg(prev_avg, new_val, 6)\n",
        "\n",
        "# Calculate the same average using all previous values for comparison\n",
        "avg = np.append(vals, new_val).mean()\n",
        "\n",
        "print(\"Average obtained from incremental update rule: \", new_avg)\n",
        "print(\"Average obtained from basic average function:  \", avg)"
      ]
    },
    {
      "cell_type": "markdown",
      "metadata": {
        "id": "di0QdX_n2sez"
      },
      "source": [
        "This method will be used on the next strategies"
      ]
    },
    {
      "cell_type": "markdown",
      "metadata": {
        "id": "hEuDOZ852se0"
      },
      "source": [
        "## The Greedy Agent\n",
        "\n",
        "This strategy is focused on always choosing the best known action at the time. Every time the agent takes an action, it looks at the estimated values for each action, and chooses the one that has a greater score. If more than two values look best, then the agent selects arbitrarily among those best-valued actions. This is called breaking ties arbitrarily\n",
        "\n",
        "Taking the action with the greatest value is equivalent to using the **argmax** function. Although, we need to implement some changes so that the funciton breaks the ties the way we intend it to do:"
      ]
    },
    {
      "cell_type": "code",
      "execution_count": null,
      "metadata": {
        "id": "IFNJoUd92se0"
      },
      "outputs": [],
      "source": [
        "def argmax(q_values):\n",
        "    \"\"\"\n",
        "    Takes in a matrix of n*k q_values and returns the index\n",
        "    of the item with the highest value for each row.\n",
        "    Breaks ties randomly.\n",
        "    returns: vector of size n, where each item is the index of\n",
        "    the highest value in q_values for each row.\n",
        "    \"\"\"\n",
        "    # Generate a mask of the max values for each row\n",
        "    mask = q_values == q_values.max(axis=1)[:, None]\n",
        "    # Generate noise to be added to the ties\n",
        "    r_noise = 1e-6*np.random.random(q_values.shape)\n",
        "    # Get the argmax of the noisy masked values\n",
        "    return np.argmax(r_noise*mask,axis=1)"
      ]
    },
    {
      "cell_type": "markdown",
      "metadata": {
        "id": "AfXWUrgO2se0"
      },
      "source": [
        "Here we're generating a mask of all the values in the input that are equal to the maximum value. Then ,we generate some noise and multiply it with the mask. Taking the argmax of this new list will be equivalent to the desired argmax with ties broken arbitrarily.\n",
        "\n",
        "Now that we have specified the argmax function, we can declare our class for the Greedy Agent, which is capable of acting upon the environment, and updating its estimates after receiving a reward."
      ]
    },
    {
      "cell_type": "code",
      "execution_count": null,
      "metadata": {
        "id": "dUjX3Vz02se1"
      },
      "outputs": [],
      "source": [
        "class GreedyAgent:\n",
        "    def __init__(self, reward_estimates):\n",
        "        \"\"\"\n",
        "        Our agent takes as input the initial reward estimates.\n",
        "        This estimates will be updated incrementally after each\n",
        "        interaction with the environment.\n",
        "        \"\"\"\n",
        "        assert len(reward_estimates.shape) == 2\n",
        "\n",
        "        self.num_bandits = reward_estimates.shape[1]\n",
        "        self.num_experiments = reward_estimates.shape[0]\n",
        "        self.reward_estimates = reward_estimates.astype(np.float64)\n",
        "        self.action_count = np.zeros(reward_estimates.shape)\n",
        "\n",
        "    def get_action(self):\n",
        "        # Our agent is greedy, so there's no need for exploration.\n",
        "        # Our argmax will do just fine for this situation\n",
        "        action = argmax(self.reward_estimates)\n",
        "\n",
        "        # Add a 1 to each action selected in the action count\n",
        "        self.action_count[np.arange(self.num_experiments), action] += 1\n",
        "\n",
        "        return action\n",
        "\n",
        "    def update_estimates(self, reward, action):\n",
        "        # rew is a matrix with the obtained rewards from our previuos\n",
        "        # action. Use this to update our estimates incrementally\n",
        "        n = self.action_count[np.arange(self.num_experiments), action]\n",
        "        prev_reward_estimates = self.reward_estimates[np.arange(self.num_experiments), action]\n",
        "\n",
        "        # Update the reward estimates incementally\n",
        "        self.reward_estimates[np.arange(self.num_experiments), action] = inc_avg(prev_reward_estimates,reward,n)"
      ]
    },
    {
      "cell_type": "markdown",
      "metadata": {
        "id": "GkLDTxGg2se1"
      },
      "source": [
        "The greedy agent contains a matrix for the estimates, as well as for the number of times each action has been taken. This is necessary for using the incremental average update rule, used inside the `update_estimates` function."
      ]
    },
    {
      "cell_type": "markdown",
      "metadata": {
        "id": "sQmJ4qtp2se1"
      },
      "source": [
        "### Testing the agent\n",
        "\n",
        "Let's see how the Greedy Agent behaves on the environment. For this, we're going to generate some animations where we're able to see how the agent estimates the values for each action, as well as the real values provided by the environment. Remember that the agent doesn't have access to that information."
      ]
    },
    {
      "cell_type": "code",
      "execution_count": null,
      "metadata": {
        "colab": {
          "base_uri": "https://localhost:8080/",
          "height": 417
        },
        "id": "Z_jM_1_W2se1",
        "outputId": "f7b7250a-d084-4e87-a924-dc87518c5ec1"
      },
      "outputs": [],
      "source": [
        "# Initialize the environment of our multi-armed bandit problem\n",
        "num_experiments = 2\n",
        "num_bandits = 8\n",
        "num_steps = 100\n",
        "means = np.random.normal(size=(num_experiments, num_bandits))\n",
        "stdev = np.ones((num_experiments, num_bandits))\n",
        "\n",
        "env = ArmedBanditsEnv(means, stdev)\n",
        "\n",
        "# Initialize the agent\n",
        "agent = GreedyAgent(np.zeros((num_experiments,num_bandits)))\n",
        "\n",
        "# Code for plotting the interaction\n",
        "fig, axs = plt.subplots(1, num_experiments, figsize=(10, 4))\n",
        "x_pos = np.arange(num_bandits)\n",
        "\n",
        "def init():\n",
        "    axa = [];\n",
        "    for i in range(num_experiments):\n",
        "        init_ax(i)\n",
        "        # axa.append(init_ax(i))\n",
        "    # return axa\n",
        "\n",
        "def init_ax(i):\n",
        "    ax = axs[i]\n",
        "    ax.clear()\n",
        "    ax.set_ylim(-4, 4)\n",
        "    ax.set_xlim(-0.5, num_bandits-.5)\n",
        "    ax.set_xlabel('Actions', fontsize=14)\n",
        "    ax.set_ylabel('Value', fontsize=14)\n",
        "    ax.set_title(label='Estimated Values vs. Real values', fontsize=15)\n",
        "    ax.plot(x_pos, env.mean[i], marker='D', linestyle='', alpha=0.8, color='r', label='Real Values')\n",
        "    ax.axhline(0, color='black', lw=1)\n",
        "    # return ax\n",
        "\n",
        "\n",
        "# Implement a step, which involves the agent acting upon the\n",
        "# environment and learning from the received reward.\n",
        "def step(g):\n",
        "    action = agent.get_action()\n",
        "    _, reward, _, _ = env.step(action)\n",
        "    agent.update_estimates(reward, action)\n",
        "    axa = []\n",
        "    for i in range(num_experiments):\n",
        "        ax = axs[i]\n",
        "        # Plot the estimated values from the agent compared to the real values\n",
        "        estimates = agent.reward_estimates[i]\n",
        "        init_ax(i)\n",
        "        values = ax.bar(x_pos, estimates, align='center', color='blue', alpha=0.4, label='Estimated Values')\n",
        "        ax.legend()\n",
        "        # axa.append(ax)\n",
        "    # return axa\n",
        "\n",
        "anim = FuncAnimation(fig, func=step, frames=num_steps, init_func=init, interval=10, repeat=False, blit=True)\n",
        "plt.show()\n",
        "\n",
        "# Uncomment the next line if you wish to store the animations as a gif\n",
        "# anim.save('./greedy-agent.gif', writer='imagemagick', fps=60)\n"
      ]
    },
    {
      "cell_type": "markdown",
      "metadata": {
        "id": "liI8-lBU2se2"
      },
      "source": [
        "you may try the previous block of code multiple times to see multiple animations. In general, you may realize that most of the actions are not explored by the agent, and that it will mostly stick to the one action that gave it some positive reward. The agent is good at evading negative values, but it will only land on the optimal action by pure chance.\n",
        "\n",
        "We can plot the average behavior by doing more experiments. The next plot displays the percentage of times the agent chose the optimal action over an average of 10000 experiments."
      ]
    },
    {
      "cell_type": "code",
      "execution_count": null,
      "metadata": {
        "colab": {
          "base_uri": "https://localhost:8080/",
          "height": 470
        },
        "id": "mBAlPJxg2se2",
        "outputId": "49f8e83b-2c7f-4681-8fdb-8c353c7585d6"
      },
      "outputs": [],
      "source": [
        "num_experiments = 10000\n",
        "num_steps = 1000\n",
        "num_actions = 10\n",
        "\n",
        "# Initialize the environment\n",
        "env = ArmedBanditsGaussian(num_experiments, num_actions)\n",
        "# Initialize the agent\n",
        "agent = GreedyAgent(np.zeros((num_experiments, num_actions)))\n",
        "\n",
        "# Store the scores and averages for later plotting\n",
        "averages = np.zeros((num_steps))\n",
        "optimality = np.zeros((num_steps))\n",
        "scores = np.zeros((num_experiments, num_steps+1))\n",
        "\n",
        "#Store the optimal actions for later use\n",
        "optimal = np.argmax(env.mean, axis=1)\n",
        "\n",
        "for i in tqdm(range(num_steps)):\n",
        "    # Select an action to execute on the environment\n",
        "    action = agent.get_action()\n",
        "    _, reward, _, _ = env.step(action)\n",
        "\n",
        "    # Update the agent estimates with the previously observed rewards\n",
        "    agent.update_estimates(reward, action)\n",
        "\n",
        "    # Store the average cumulative score and optimality of the current step\n",
        "    scores[:,i+1] = scores[:,i] + reward\n",
        "    avg_score = np.mean(scores[:,i+1]/(i+1))\n",
        "    averages[i] = avg_score\n",
        "\n",
        "    # Get optimal actions from the environment\n",
        "    current_optimality = np.mean(action == optimal)\n",
        "    optimality[i] = current_optimality\n",
        "\n",
        "plt.figure(figsize=(12,6), dpi=80, facecolor='w', edgecolor='k')\n",
        "plt.plot([1.0 for _ in range(num_steps)], linestyle='--')\n",
        "plt.plot([0.0 for _ in range(num_steps)], linestyle='--')\n",
        "plt.plot(optimality)\n",
        "plt.legend([\"Best Possible\", \"Worst Possible\", \"Greedy\"])\n",
        "plt.title(\"Average Optimality of Greedy Agent\", fontsize=14)\n",
        "plt.ylabel(\"% of Optimal Action Taken\")\n",
        "plt.xlabel(\"Steps\")\n",
        "plt.show()\n",
        "greedy_scores = averages\n",
        "greedy_optimality = optimality"
      ]
    },
    {
      "cell_type": "markdown",
      "metadata": {
        "id": "qWa-6MVh2se3"
      },
      "source": [
        "The Greedy Agent chooses the best action on average ~40% of the times. Additionally, extra experience won't improve it's score, as it usually lands on a sub-optimal action on the first steps, and stays there for ever. The Greedy Agent is not a good strategy for finding the optimal action on this scenario."
      ]
    },
    {
      "cell_type": "markdown",
      "metadata": {
        "id": "QKr4rdEa2se3"
      },
      "source": [
        "## The Epsilon-Greedy Agent\n",
        "\n",
        "Another strategy is the Epsilon Greedy Agent, which adds to the previous strategy. An Epsilon-Greedy Agent allows for some exploratory actions, by every once in a while choosing any action randomly, instead of always acting greedily. The probability of taking an exploratory action is defined by the parameter `epsilon`. An epsilon of `0` is a Greedy Agent. An epsilon of `0.2` means our agent takes a random action 20% of the time. An epsilon of `1` is an agent that behaves randomly. Let's build this new agent"
      ]
    },
    {
      "cell_type": "code",
      "execution_count": null,
      "metadata": {
        "id": "Poi42r3d2se3"
      },
      "outputs": [],
      "source": [
        "class EpsilonGreedyAgent(GreedyAgent):\n",
        "    def __init__(self, reward_estimates, epsilon):\n",
        "        GreedyAgent.__init__(self, reward_estimates)\n",
        "        # Store the epsilon value\n",
        "        assert epsilon >= 0 and epsilon <= 1\n",
        "        self.epsilon = epsilon\n",
        "\n",
        "    def get_action(self):\n",
        "        # We need to redefine this function so that it takes an exploratory action with epsilon probability\n",
        "\n",
        "        # One hot encoding: 0 if exploratory, 1 otherwise\n",
        "        action_type = (np.random.random_sample(self.num_experiments) > self.epsilon).astype(int)\n",
        "        # Generate both types of actions for every experiment\n",
        "        exploratory_action = np.random.randint(self.num_bandits, size=self.num_experiments)\n",
        "        greedy_action = argmax(self.reward_estimates)\n",
        "        # Use the one hot encoding to mask the actions for each experiment\n",
        "        action = greedy_action * action_type + exploratory_action * (1 - action_type)\n",
        "\n",
        "        self.action_count[np.arange(self.num_experiments), action] += 1\n",
        "\n",
        "        return action"
      ]
    },
    {
      "cell_type": "markdown",
      "metadata": {
        "id": "t1KQFxgD2se3"
      },
      "source": [
        "As may be seen, we're inheriting the `GreedyAgent` implementation, and only changing the `get_action` function. For taking an action, we're using a masking that defines which experiments will choose an action randomly and which will act greedily. Then, we apply that masking between random and greedy actions to obtain the action vector for all of our experiments."
      ]
    },
    {
      "cell_type": "markdown",
      "metadata": {
        "id": "f_hRV_Xk2se6"
      },
      "source": [
        "### Testing the Agent"
      ]
    },
    {
      "cell_type": "markdown",
      "metadata": {
        "id": "hPE2O8AU2se6"
      },
      "source": [
        "Here, we're going to use the same animation as before to observe how this new strategy behaves. Our agents will have a value of epsilon of `0.1`"
      ]
    },
    {
      "cell_type": "code",
      "execution_count": null,
      "metadata": {
        "colab": {
          "referenced_widgets": [
            "80e4bb527a0c4774a097a1534b213383",
            "f7bf92826b1e4d0ea70266bd394268c4"
          ]
        },
        "id": "SWWsxxsa2se7",
        "outputId": "a2bf3f66-e4dd-482d-a95e-083ed5647110"
      },
      "outputs": [],
      "source": [
        "# Initialize the environment of our multi-armed bandit problem\n",
        "num_experiments = 2\n",
        "num_bandits = 8\n",
        "num_steps = 200\n",
        "means = np.random.normal(size=(num_experiments, num_bandits))\n",
        "stdev = np.ones((num_experiments, num_bandits))\n",
        "\n",
        "env = ArmedBanditsEnv(means, stdev)\n",
        "\n",
        "# Initialize the agent\n",
        "agent = EpsilonGreedyAgent(np.zeros((num_experiments,num_bandits)), 0.1)\n",
        "\n",
        "# Code for plotting the interaction\n",
        "fig, axs = plt.subplots(1, num_experiments, figsize=(10, 4))\n",
        "x_pos = np.arange(num_bandits)\n",
        "\n",
        "def init():\n",
        "    for i in range(num_experiments):\n",
        "        init_ax(i)\n",
        "\n",
        "\n",
        "def init_ax(i):\n",
        "    ax = axs[i]\n",
        "    ax.clear()\n",
        "    ax.set_ylim(-4, 4)\n",
        "    ax.set_xlim(-0.5, num_bandits-.5)\n",
        "    ax.set_xlabel('Actions', fontsize=14)\n",
        "    ax.set_ylabel('Value', fontsize=14)\n",
        "    ax.set_title(label='Estimated Values vs. Real values', fontsize=15)\n",
        "    ax.plot(x_pos, env.mean[i], marker='D', linestyle='', alpha=0.8, color='r', label='Real Values')\n",
        "    ax.axhline(0, color='black', lw=1)\n",
        "\n",
        "# Implement a step, which involves the agent acting upon the\n",
        "# environment and learning from the received reward.\n",
        "def step(g):\n",
        "    action = agent.get_action()\n",
        "    _, reward, _, _ = env.step(action)\n",
        "    agent.update_estimates(reward, action)\n",
        "    for i in range(num_experiments):\n",
        "        ax = axs[i]\n",
        "        # Plot the estimated values from the agent compared to the real values\n",
        "        estimates = agent.reward_estimates[i]\n",
        "        init_ax(i)\n",
        "        values = ax.bar(x_pos, estimates, align='center', color='blue', alpha=0.4, label='Estimated Values')\n",
        "        ax.legend()\n",
        "\n",
        "anim = FuncAnimation(fig, func=step, frames=np.arange(num_steps), init_func=init, interval=10, repeat=False, blit=True)\n",
        "plt.show()\n",
        "\n",
        "# Uncomment the next line if you wish to store the animations as a gif\n",
        "# anim.save('./epsilon-greedy-agent.gif', writer='imagemagick', fps=60)"
      ]
    },
    {
      "cell_type": "markdown",
      "metadata": {
        "id": "kQBszQNX2se7"
      },
      "source": [
        "Again, you may run the previous block multiple times to see different runs. As can be observed, the epsilon-greedy agent not only finds the optimal solution most of the times, but it is also capable of finding close estimated values for all the actions! How does our new strategy compares to the greedy agent on average?"
      ]
    },
    {
      "cell_type": "code",
      "execution_count": null,
      "metadata": {
        "id": "gUk7GyL22se7"
      },
      "outputs": [],
      "source": [
        "def run_experiment(num_experiments=1000, num_steps=1000, num_actions=10,epsilon=0.1):\n",
        "    # Initialize the environment\n",
        "    env = ArmedBanditsGaussian(num_experiments, num_actions)\n",
        "    # Initialize the agent\n",
        "    agent = EpsilonGreedyAgent(np.zeros((num_experiments, num_actions)), epsilon)\n",
        "\n",
        "    # Store the scores and averages for later plotting\n",
        "    averages = np.zeros((num_steps))\n",
        "    optimality = np.zeros((num_steps))\n",
        "    scores = np.zeros((num_experiments, num_steps+1))\n",
        "\n",
        "    #Store the optimal actions for later use\n",
        "    optimal = np.argmax(env.mean, axis=1)\n",
        "\n",
        "    for i in tqdm(range(num_steps)):\n",
        "        # Select an action to execute on the environment\n",
        "        action = agent.get_action()\n",
        "        _, reward, _, _ = env.step(action)\n",
        "\n",
        "        # Update the agent estimates with the previously observed rewards\n",
        "        agent.update_estimates(reward, action)\n",
        "\n",
        "        # Store the average cumulative score and optimality of the current step\n",
        "        scores[:,i+1] = scores[:,i] + reward\n",
        "        avg_score = np.mean(scores[:,i+1]/(i+1))\n",
        "        averages[i] = avg_score\n",
        "\n",
        "        # Get optimal actions from the environment\n",
        "        current_optimality = np.mean(action == optimal)\n",
        "        optimality[i] = current_optimality\n",
        "    return optimality, averages"
      ]
    },
    {
      "cell_type": "code",
      "execution_count": null,
      "metadata": {
        "colab": {
          "referenced_widgets": [
            "ee23248ec89842c38e0a0ceb72fc232b",
            "b929f3fc9e414c4db31e2c9a00e617b1"
          ]
        },
        "id": "RLNOrcM82se7",
        "outputId": "edab55e8-00ab-4a91-ad48-da7a5c159836"
      },
      "outputs": [
        {
          "ename": "NameError",
          "evalue": "name 'run_experiment' is not defined",
          "output_type": "error",
          "traceback": [
            "\u001b[1;31m---------------------------------------------------------------------------\u001b[0m",
            "\u001b[1;31mNameError\u001b[0m                                 Traceback (most recent call last)",
            "Cell \u001b[1;32mIn[2], line 6\u001b[0m\n\u001b[0;32m      3\u001b[0m num_actions \u001b[38;5;241m=\u001b[39m \u001b[38;5;241m10\u001b[39m\n\u001b[0;32m      4\u001b[0m epsilon \u001b[38;5;241m=\u001b[39m \u001b[38;5;241m0.1\u001b[39m\n\u001b[1;32m----> 6\u001b[0m balanced_eps_optimality, balanced_eps_scores \u001b[38;5;241m=\u001b[39m run_experiment(num_experiments, num_steps, num_actions, epsilon)\n\u001b[0;32m      8\u001b[0m plt\u001b[38;5;241m.\u001b[39mfigure(figsize\u001b[38;5;241m=\u001b[39m(\u001b[38;5;241m12\u001b[39m,\u001b[38;5;241m6\u001b[39m), dpi\u001b[38;5;241m=\u001b[39m\u001b[38;5;241m80\u001b[39m, facecolor\u001b[38;5;241m=\u001b[39m\u001b[38;5;124m'\u001b[39m\u001b[38;5;124mw\u001b[39m\u001b[38;5;124m'\u001b[39m, edgecolor\u001b[38;5;241m=\u001b[39m\u001b[38;5;124m'\u001b[39m\u001b[38;5;124mk\u001b[39m\u001b[38;5;124m'\u001b[39m)\n\u001b[0;32m      9\u001b[0m plt\u001b[38;5;241m.\u001b[39mplot([\u001b[38;5;241m1.0\u001b[39m \u001b[38;5;28;01mfor\u001b[39;00m _ \u001b[38;5;129;01min\u001b[39;00m \u001b[38;5;28mrange\u001b[39m(num_steps)], linestyle\u001b[38;5;241m=\u001b[39m\u001b[38;5;124m'\u001b[39m\u001b[38;5;124m--\u001b[39m\u001b[38;5;124m'\u001b[39m)\n",
            "\u001b[1;31mNameError\u001b[0m: name 'run_experiment' is not defined"
          ]
        }
      ],
      "source": [
        "num_experiments = 10000\n",
        "num_steps = 1000\n",
        "num_actions = 10\n",
        "epsilon = 0.1\n",
        "\n",
        "balanced_eps_optimality, balanced_eps_scores = run_experiment(num_experiments, num_steps, num_actions, epsilon)\n",
        "\n",
        "plt.figure(figsize=(12,6), dpi=80, facecolor='w', edgecolor='k')\n",
        "plt.plot([1.0 for _ in range(num_steps)], linestyle='--')\n",
        "plt.plot([0.0 for _ in range(num_steps)], linestyle='--')\n",
        "plt.plot(balanced_eps_optimality)\n",
        "plt.plot(greedy_optimality)\n",
        "plt.legend([\"Best Possible\", \"Worst Possible\", \"0.1 $\\epsilon$ Greedy\", \"Greedy\"])\n",
        "plt.title(\"Average Optimality of Greedy Agent vs Epsilon-Greedy Agent\")\n",
        "plt.ylabel(\"% of Optimal Action Taken\")\n",
        "plt.xlabel(\"Steps\")\n",
        "plt.show()"
      ]
    },
    {
      "cell_type": "markdown",
      "metadata": {
        "id": "h6yXM3Rw2se8"
      },
      "source": [
        "After 1000 steps, the Epsilon-Greedy Agent is capable of reaching an 80% average optimality. This means that on average, they choose the best possible action 80% of the times after that amount of iterations. We can also see how our agent is capable of improving from experience, contrary to the Greedy Agent."
      ]
    },
    {
      "cell_type": "markdown",
      "metadata": {
        "id": "vOGGfJRm2se8"
      },
      "source": [
        "## Values for epsilon"
      ]
    },
    {
      "cell_type": "markdown",
      "metadata": {
        "id": "4zx_9bwy2se8"
      },
      "source": [
        "On the previous example, we used a value for `epsilon` of `0.1`. This means that the agent chose an exploratory action 10% of the times. What would have happened if we chose another action? Like with almost all hyper-parameters in Machine Learning, there's a range of values which behave better than others. Let's make an actual experiment using different values for `epsilon`"
      ]
    },
    {
      "cell_type": "code",
      "execution_count": null,
      "metadata": {
        "colab": {
          "referenced_widgets": [
            "c99d5001fc2a433e8f37c90ddc673b5d",
            "c7cf0cf405e24d7880b8277334aff30b"
          ]
        },
        "id": "G-OedWQ72se8",
        "outputId": "65281e44-d1c6-47f3-cf38-1d6af30e862a"
      },
      "outputs": [
        {
          "ename": "NameError",
          "evalue": "name 'np' is not defined",
          "output_type": "error",
          "traceback": [
            "\u001b[1;31m---------------------------------------------------------------------------\u001b[0m",
            "\u001b[1;31mNameError\u001b[0m                                 Traceback (most recent call last)",
            "Cell \u001b[1;32mIn[1], line 4\u001b[0m\n\u001b[0;32m      2\u001b[0m num_steps \u001b[38;5;241m=\u001b[39m \u001b[38;5;241m1000\u001b[39m\n\u001b[0;32m      3\u001b[0m num_actions \u001b[38;5;241m=\u001b[39m \u001b[38;5;241m10\u001b[39m\n\u001b[1;32m----> 4\u001b[0m epsilons \u001b[38;5;241m=\u001b[39m np\u001b[38;5;241m.\u001b[39marray([\u001b[38;5;241m0.0\u001b[39m, \u001b[38;5;241m0.01\u001b[39m, \u001b[38;5;241m0.1\u001b[39m, \u001b[38;5;241m0.4\u001b[39m])\n\u001b[0;32m      6\u001b[0m plt\u001b[38;5;241m.\u001b[39mfigure(figsize\u001b[38;5;241m=\u001b[39m(\u001b[38;5;241m12\u001b[39m,\u001b[38;5;241m6\u001b[39m), dpi\u001b[38;5;241m=\u001b[39m\u001b[38;5;241m80\u001b[39m, facecolor\u001b[38;5;241m=\u001b[39m\u001b[38;5;124m'\u001b[39m\u001b[38;5;124mw\u001b[39m\u001b[38;5;124m'\u001b[39m, edgecolor\u001b[38;5;241m=\u001b[39m\u001b[38;5;124m'\u001b[39m\u001b[38;5;124mk\u001b[39m\u001b[38;5;124m'\u001b[39m)\n\u001b[0;32m      7\u001b[0m \u001b[38;5;66;03m# plt.plot([1.6 for _ in range(num_steps)], linestyle='--') # why 1.6?\u001b[39;00m\n",
            "\u001b[1;31mNameError\u001b[0m: name 'np' is not defined"
          ]
        }
      ],
      "source": [
        "num_experiments = 1000\n",
        "num_steps = 1000\n",
        "num_actions = 10\n",
        "epsilons = np.array([0.0, 0.01, 0.1, 0.4])\n",
        "\n",
        "plt.figure(figsize=(12,6), dpi=80, facecolor='w', edgecolor='k')\n",
        "# plt.plot([1.6 for _ in range(num_steps)], linestyle='--') # why 1.6?\n",
        "\n",
        "\n",
        "for epsilon in epsilons:\n",
        "    _, reward = run_experiment(num_experiments, num_steps, num_actions, epsilon)\n",
        "\n",
        "    plt.plot(reward)\n",
        "\n",
        "# plt.legend([\"Best Possible\"] + epsilons.tolist())\n",
        "plt.legend(epsilons.tolist())\n",
        "plt.title(\"Average reward for multiple values of epsilon\")\n",
        "plt.xlabel(\"Steps\")\n",
        "plt.ylabel(\"Average Reward\")\n",
        "plt.show()"
      ]
    },
    {
      "cell_type": "markdown",
      "metadata": {
        "id": "e2NwECSH2se8"
      },
      "source": [
        "Here, we're plotting the average amount of reward received by the agent. This is because plotting the optimality on this many tests gets too crowded and noisy. As can be seen, the agent with an epsilon of `0.1` was the one that received the most amount of reward. Values of epsilon that are too small take very few exploratory actions, and therefore take a long time to explore and find the most optimal value. On the other hand, values of `epsilon` too high will obstruct the capacity of the agent of acting optimally. Too much exploration gets in the way of exploitation."
      ]
    },
    {
      "cell_type": "markdown",
      "metadata": {
        "id": "32BlCjd3HvId"
      },
      "source": [
        "***\n",
        "## Part B questions\n",
        "\n",
        "Now that we have familiarized ourselves with the basic setup let us test a few more stratergies as part of the assignment problem.\n",
        "\n",
        "Consider a two-armed Bernoulli bandit scenario with true means given by $\\mu_1 = \\frac{1}{2}, \\mu_2= \\frac{1}{2}+\\Delta$, for some $\\Delta < \\frac{1}{2}$. Let the time horizon be $T=10000$. `[20 Marks]`"
      ]
    },
    {
      "cell_type": "markdown",
      "metadata": {},
      "source": [
        "### B1\n",
        "Take $\\Delta=\\frac{1}{4}$ and run the Monte Carlo simulations to estimate the expected regret of the ETC algorithm which explores each arm $m = T^{2/3} (\\log T)^{1/3}$ times before committing. Specifically, you run the ETC algorithm to compute the sample regret \n",
        "$$ \\mu_2 * T - \\sum_{t=1}^T R_t, $$ \n",
        "where $R_t$ is the reward obtained in time step $t$.\n",
        "\n",
        "Repeat this experiment 500 times and estimate the expected regret by taking the average of the sample regrets you obtained in all those 500 experiments. `[5 Marks]`"
      ]
    },
    {
      "cell_type": "code",
      "execution_count": 1,
      "metadata": {},
      "outputs": [
        {
          "name": "stdout",
          "output_type": "stream",
          "text": [
            "Estimated Expected Regret : 5.582\n"
          ]
        }
      ],
      "source": [
        "# write your code for the above part here\n",
        "# Import necessary libraries\n",
        "\n",
        "import numpy as np\n",
        "from gymnasium import spaces\n",
        "from gymnasium.utils import seeding\n",
        "import gymnasium as gym\n",
        "\n",
        "class ArmedBanditsEnv(gym.Env):\n",
        "\n",
        "    def __init__(self, delta):\n",
        "        super(ArmedBanditsEnv, self).__init__()\n",
        "        #define action and observation space\n",
        "        self.delta = delta\n",
        "        self.action_space = spaces.Discrete(2) #two arms\n",
        "        self.observation_space = spaces.Discrete(1) #discrete choices between two options\n",
        "        self.true_means = [0.5, 0.5 + self.delta]  #armed bandit parameters\n",
        "        self.step_count = 0  #tracking the current time step\n",
        "        self.seed_value = None\n",
        "\n",
        "    def step(self, action):\n",
        "        #stimulate bandit step by taking action(choosing arm)\n",
        "        reward = np.random.binomial(1, self.true_means[action])\n",
        "        self.step_count += 1\n",
        "        done = self.step_count >= T #if time horizon is reached\n",
        "        return np.array([0.0]), reward, done, {}\n",
        "    \n",
        "    def reset(self):  \n",
        "        self.step_count = 0  #reseting the environment to the initial state\n",
        "        return np.array([0.0])\n",
        "    \n",
        "    def render(self):\n",
        "        print(f\"Step: {self.step_count}, True Mreans: {self.true_means}\")\n",
        "\n",
        "    def seed(self, seed = None):\n",
        "        self.seed_value = seed\n",
        "        np.random.seed(seed)\n",
        "    \n",
        "    def close(self):\n",
        "        pass #cleanup and closing logic\n",
        "\n",
        "#ETC Algorithm\n",
        "def etc_algorithm(env, T, exploration_factor):\n",
        "        #simulates the ETC algorithm\n",
        "        m = int(T ** (2/3)/ (np.log(T))**(1/3))  #exploration threshold #Number of times explored(m) value based on Time Horizon\n",
        "        total_reward = 0  #cumulative reward\n",
        "\n",
        "        for n in range(T):\n",
        "            #deciding whether to explore or exploit\n",
        "            if n % m == 0:\n",
        "                action = np.random.randint(2)  #explore\n",
        "            else:\n",
        "                action = np.argmax([0.5, 0.5 + env.delta]) #exploit \n",
        "\n",
        "            _, reward, _, _ = env.step(action) \n",
        "            total_reward += reward #updating reward\n",
        "        regret = T *(0.5 + env.delta) - total_reward #diff between expected max reward and total obtained reward\n",
        "        return regret\n",
        "#parameters for mante carlo simulations  \n",
        "number_of_experiments = 500\n",
        "delta = 1/4\n",
        "T = 10000\n",
        "exploration_factor = 1.0 #we can take value between 0 and 1 \n",
        "# control balance (trafe off between between exploration and exploitation )\n",
        "#Monte Carlo simulations with etc algorithm\n",
        "total_regret = []\n",
        "\n",
        "for _ in range(number_of_experiments):\n",
        "    env = ArmedBanditsEnv(delta) #Create the environment \n",
        "    env.seed()\n",
        "    regret = etc_algorithm(env, T, exploration_factor)\n",
        "    total_regret.append(regret)\n",
        "\n",
        "avg_regret = np.mean(total_regret)\n",
        "\n",
        "print(f\"Estimated Expected Regret : {avg_regret}\")"
      ]
    },
    {
      "cell_type": "markdown",
      "metadata": {},
      "source": [
        "### B2\n",
        "\n",
        "Repeat the above for various values of $\\Delta \\in \\{0.05, 0.1, 0.2, 0.3, 0.4, 0.45\\}$ and plot the estimated regret as a function of $\\Delta$ and verify whether it satisfies the regret upper bound we derived in class. `[5 Marks]`"
      ]
    },
    {
      "cell_type": "code",
      "execution_count": 47,
      "metadata": {},
      "outputs": [
        {
          "data": {
            "image/png": "[encoded data removed]",
            "text/plain": [
              "<Figure size 640x480 with 1 Axes>"
            ]
          },
          "metadata": {},
          "output_type": "display_data"
        }
      ],
      "source": [
        "# write your code for the above part here\n",
        "# write your code for the above part here\n",
        "# Import necessary libraries\n",
        "\n",
        "import numpy as np\n",
        "from gymnasium import spaces\n",
        "from gymnasium.utils import seeding\n",
        "import gymnasium as gym\n",
        "import matplotlib.pyplot as plt\n",
        "\n",
        "\n",
        "class ArmedBanditsEnv(gym.Env):\n",
        "    def __init__(self, delta):\n",
        "        super(ArmedBanditsEnv, self).__init__()\n",
        "        #define action and observation space\n",
        "        self.delta = delta\n",
        "        self.action_space = spaces.Discrete(2)#two arms\n",
        "        self.observation_space = spaces.Discrete(1) #discrete choices between two options\n",
        "        self.true_means = [0.5, 0.5 + self.delta] #armed bandit parameters\n",
        "        self.step_count = 0 #tracking the current time step\n",
        "        self.seed_value = None\n",
        "        \n",
        "\n",
        "    def step(self, action):\n",
        "        #stimulate bandit step by taking action(choosing arm)\n",
        "        reward = np.random.binomial(1, self.true_means[action])\n",
        "        self.step_count += 1\n",
        "        done = self.step_count >= T #if time horizon is reached\n",
        "        return np.array([0.0]), reward, done, {}\n",
        "    \n",
        "    def reset(self):\n",
        "        self.step_count = 0 #reseting the environment to the initial state\n",
        "        return np.array([0.0])\n",
        "    \n",
        "    def render(self):\n",
        "        print(f\"Step: {self.step_count}, True Mreans: {self.true_means}\")\n",
        "\n",
        "    def seed(self, seed = None):\n",
        "        self.seed_value = seed\n",
        "        np.random.seed(seed)\n",
        "    \n",
        "    def close(self):\n",
        "        pass #cleanup and closing logic\n",
        "\n",
        "#ETC Algorithm\n",
        "def etc_algorithm(env, T, exploration_factor):\n",
        "        #simulates the ETC algorithm\n",
        "        m = int(T ** (2/3)/ (np.log(T))**(1/3)) #exploration threshold\n",
        "        #number of times each arm played based on time horizon\n",
        "        total_reward = 0 #cumulative reward\n",
        "\n",
        "        for n in range(T):\n",
        "            #deciding whether to explore or exploit\n",
        "            if n % m == 0:\n",
        "                action = np.random.randint(2) #explore\n",
        "            else:\n",
        "                action = np.argmax([0.5, 0.5 + env.delta]) #exploit\n",
        "\n",
        "            _, reward, _, _ = env.step(action)\n",
        "            total_reward += reward #updating reward\n",
        "        regret = T *(0.5 + env.delta) - total_reward #diff between expected max reward and total obtained reward\n",
        "        return regret\n",
        "#parameters   \n",
        "number_of_experiments = 500\n",
        "delta_values = [0.05,0.1,0.2,0.3,0.4,0.45]\n",
        "\n",
        "T = 10000\n",
        "exploration_factor = 1.0 #trade off between exploration and expoitation\n",
        "regret_results = []\n",
        "\n",
        "for delta in delta_values:\n",
        "    total_regret = 0\n",
        "    \n",
        "    for _ in range(number_of_experiments):\n",
        "        env = ArmedBanditsEnv(delta) #creating environment\n",
        "        env.seed()\n",
        "        regret = etc_algorithm(env, T, exploration_factor)\n",
        "        total_regret += regret\n",
        "\n",
        "    avg_regret = total_regret / number_of_experiments\n",
        "    regret_results.append(avg_regret)\n",
        "#plotting estimated regret\n",
        "plt.plot(delta_values, regret_results, marker= 'o')\n",
        "plt.xlabel('$\\Delta$') #latex model for empirical symbol\n",
        "plt.ylabel('Estimated Regret')\n",
        "plt.title('Estimated Regret as a function of $\\Delta$')\n",
        "#show the figure\n",
        "plt.show()"
      ]
    },
    {
      "cell_type": "markdown",
      "metadata": {},
      "source": [
        "### B3 \n",
        "Repeat the experiment with the UCB algorithm and plot the comparison with ETC. `[10 Marks]`"
      ]
    },
    {
      "cell_type": "code",
      "execution_count": 33,
      "metadata": {},
      "outputs": [
        {
          "ename": "ValueError",
          "evalue": "Image size of 859x418963 pixels is too large. It must be less than 2^16 in each direction.",
          "output_type": "error",
          "traceback": [
            "\u001b[1;31m---------------------------------------------------------------------------\u001b[0m",
            "\u001b[1;31mValueError\u001b[0m                                Traceback (most recent call last)",
            "File \u001b[1;32mc:\\Users\\shali\\anaconda3\\Lib\\site-packages\\IPython\\core\\formatters.py:340\u001b[0m, in \u001b[0;36mBaseFormatter.__call__\u001b[1;34m(self, obj)\u001b[0m\n\u001b[0;32m    338\u001b[0m     \u001b[38;5;28;01mpass\u001b[39;00m\n\u001b[0;32m    339\u001b[0m \u001b[38;5;28;01melse\u001b[39;00m:\n\u001b[1;32m--> 340\u001b[0m     \u001b[38;5;28;01mreturn\u001b[39;00m printer(obj)\n\u001b[0;32m    341\u001b[0m \u001b[38;5;66;03m# Finally look for special method names\u001b[39;00m\n\u001b[0;32m    342\u001b[0m method \u001b[38;5;241m=\u001b[39m get_real_method(obj, \u001b[38;5;28mself\u001b[39m\u001b[38;5;241m.\u001b[39mprint_method)\n",
            "File \u001b[1;32mc:\\Users\\shali\\anaconda3\\Lib\\site-packages\\IPython\\core\\pylabtools.py:152\u001b[0m, in \u001b[0;36mprint_figure\u001b[1;34m(fig, fmt, bbox_inches, base64, **kwargs)\u001b[0m\n\u001b[0;32m    149\u001b[0m     \u001b[38;5;28;01mfrom\u001b[39;00m \u001b[38;5;21;01mmatplotlib\u001b[39;00m\u001b[38;5;21;01m.\u001b[39;00m\u001b[38;5;21;01mbackend_bases\u001b[39;00m \u001b[38;5;28;01mimport\u001b[39;00m FigureCanvasBase\n\u001b[0;32m    150\u001b[0m     FigureCanvasBase(fig)\n\u001b[1;32m--> 152\u001b[0m fig\u001b[38;5;241m.\u001b[39mcanvas\u001b[38;5;241m.\u001b[39mprint_figure(bytes_io, \u001b[38;5;241m*\u001b[39m\u001b[38;5;241m*\u001b[39mkw)\n\u001b[0;32m    153\u001b[0m data \u001b[38;5;241m=\u001b[39m bytes_io\u001b[38;5;241m.\u001b[39mgetvalue()\n\u001b[0;32m    154\u001b[0m \u001b[38;5;28;01mif\u001b[39;00m fmt \u001b[38;5;241m==\u001b[39m \u001b[38;5;124m'\u001b[39m\u001b[38;5;124msvg\u001b[39m\u001b[38;5;124m'\u001b[39m:\n",
            "File \u001b[1;32mc:\\Users\\shali\\anaconda3\\Lib\\site-packages\\matplotlib\\backend_bases.py:2366\u001b[0m, in \u001b[0;36mFigureCanvasBase.print_figure\u001b[1;34m(self, filename, dpi, facecolor, edgecolor, orientation, format, bbox_inches, pad_inches, bbox_extra_artists, backend, **kwargs)\u001b[0m\n\u001b[0;32m   2362\u001b[0m \u001b[38;5;28;01mtry\u001b[39;00m:\n\u001b[0;32m   2363\u001b[0m     \u001b[38;5;66;03m# _get_renderer may change the figure dpi (as vector formats\u001b[39;00m\n\u001b[0;32m   2364\u001b[0m     \u001b[38;5;66;03m# force the figure dpi to 72), so we need to set it again here.\u001b[39;00m\n\u001b[0;32m   2365\u001b[0m     \u001b[38;5;28;01mwith\u001b[39;00m cbook\u001b[38;5;241m.\u001b[39m_setattr_cm(\u001b[38;5;28mself\u001b[39m\u001b[38;5;241m.\u001b[39mfigure, dpi\u001b[38;5;241m=\u001b[39mdpi):\n\u001b[1;32m-> 2366\u001b[0m         result \u001b[38;5;241m=\u001b[39m print_method(\n\u001b[0;32m   2367\u001b[0m             filename,\n\u001b[0;32m   2368\u001b[0m             facecolor\u001b[38;5;241m=\u001b[39mfacecolor,\n\u001b[0;32m   2369\u001b[0m             edgecolor\u001b[38;5;241m=\u001b[39medgecolor,\n\u001b[0;32m   2370\u001b[0m             orientation\u001b[38;5;241m=\u001b[39morientation,\n\u001b[0;32m   2371\u001b[0m             bbox_inches_restore\u001b[38;5;241m=\u001b[39m_bbox_inches_restore,\n\u001b[0;32m   2372\u001b[0m             \u001b[38;5;241m*\u001b[39m\u001b[38;5;241m*\u001b[39mkwargs)\n\u001b[0;32m   2373\u001b[0m \u001b[38;5;28;01mfinally\u001b[39;00m:\n\u001b[0;32m   2374\u001b[0m     \u001b[38;5;28;01mif\u001b[39;00m bbox_inches \u001b[38;5;129;01mand\u001b[39;00m restore_bbox:\n",
            "File \u001b[1;32mc:\\Users\\shali\\anaconda3\\Lib\\site-packages\\matplotlib\\backend_bases.py:2232\u001b[0m, in \u001b[0;36mFigureCanvasBase._switch_canvas_and_return_print_method.<locals>.<lambda>\u001b[1;34m(*args, **kwargs)\u001b[0m\n\u001b[0;32m   2228\u001b[0m     optional_kws \u001b[38;5;241m=\u001b[39m {  \u001b[38;5;66;03m# Passed by print_figure for other renderers.\u001b[39;00m\n\u001b[0;32m   2229\u001b[0m         \u001b[38;5;124m\"\u001b[39m\u001b[38;5;124mdpi\u001b[39m\u001b[38;5;124m\"\u001b[39m, \u001b[38;5;124m\"\u001b[39m\u001b[38;5;124mfacecolor\u001b[39m\u001b[38;5;124m\"\u001b[39m, \u001b[38;5;124m\"\u001b[39m\u001b[38;5;124medgecolor\u001b[39m\u001b[38;5;124m\"\u001b[39m, \u001b[38;5;124m\"\u001b[39m\u001b[38;5;124morientation\u001b[39m\u001b[38;5;124m\"\u001b[39m,\n\u001b[0;32m   2230\u001b[0m         \u001b[38;5;124m\"\u001b[39m\u001b[38;5;124mbbox_inches_restore\u001b[39m\u001b[38;5;124m\"\u001b[39m}\n\u001b[0;32m   2231\u001b[0m     skip \u001b[38;5;241m=\u001b[39m optional_kws \u001b[38;5;241m-\u001b[39m {\u001b[38;5;241m*\u001b[39minspect\u001b[38;5;241m.\u001b[39msignature(meth)\u001b[38;5;241m.\u001b[39mparameters}\n\u001b[1;32m-> 2232\u001b[0m     print_method \u001b[38;5;241m=\u001b[39m functools\u001b[38;5;241m.\u001b[39mwraps(meth)(\u001b[38;5;28;01mlambda\u001b[39;00m \u001b[38;5;241m*\u001b[39margs, \u001b[38;5;241m*\u001b[39m\u001b[38;5;241m*\u001b[39mkwargs: meth(\n\u001b[0;32m   2233\u001b[0m         \u001b[38;5;241m*\u001b[39margs, \u001b[38;5;241m*\u001b[39m\u001b[38;5;241m*\u001b[39m{k: v \u001b[38;5;28;01mfor\u001b[39;00m k, v \u001b[38;5;129;01min\u001b[39;00m kwargs\u001b[38;5;241m.\u001b[39mitems() \u001b[38;5;28;01mif\u001b[39;00m k \u001b[38;5;129;01mnot\u001b[39;00m \u001b[38;5;129;01min\u001b[39;00m skip}))\n\u001b[0;32m   2234\u001b[0m \u001b[38;5;28;01melse\u001b[39;00m:  \u001b[38;5;66;03m# Let third-parties do as they see fit.\u001b[39;00m\n\u001b[0;32m   2235\u001b[0m     print_method \u001b[38;5;241m=\u001b[39m meth\n",
            "File \u001b[1;32mc:\\Users\\shali\\anaconda3\\Lib\\site-packages\\matplotlib\\backends\\backend_agg.py:509\u001b[0m, in \u001b[0;36mFigureCanvasAgg.print_png\u001b[1;34m(self, filename_or_obj, metadata, pil_kwargs)\u001b[0m\n\u001b[0;32m    462\u001b[0m \u001b[38;5;28;01mdef\u001b[39;00m \u001b[38;5;21mprint_png\u001b[39m(\u001b[38;5;28mself\u001b[39m, filename_or_obj, \u001b[38;5;241m*\u001b[39m, metadata\u001b[38;5;241m=\u001b[39m\u001b[38;5;28;01mNone\u001b[39;00m, pil_kwargs\u001b[38;5;241m=\u001b[39m\u001b[38;5;28;01mNone\u001b[39;00m):\n\u001b[0;32m    463\u001b[0m \u001b[38;5;250m    \u001b[39m\u001b[38;5;124;03m\"\"\"\u001b[39;00m\n\u001b[0;32m    464\u001b[0m \u001b[38;5;124;03m    Write the figure to a PNG file.\u001b[39;00m\n\u001b[0;32m    465\u001b[0m \n\u001b[1;32m   (...)\u001b[0m\n\u001b[0;32m    507\u001b[0m \u001b[38;5;124;03m        *metadata*, including the default 'Software' key.\u001b[39;00m\n\u001b[0;32m    508\u001b[0m \u001b[38;5;124;03m    \"\"\"\u001b[39;00m\n\u001b[1;32m--> 509\u001b[0m     \u001b[38;5;28mself\u001b[39m\u001b[38;5;241m.\u001b[39m_print_pil(filename_or_obj, \u001b[38;5;124m\"\u001b[39m\u001b[38;5;124mpng\u001b[39m\u001b[38;5;124m\"\u001b[39m, pil_kwargs, metadata)\n",
            "File \u001b[1;32mc:\\Users\\shali\\anaconda3\\Lib\\site-packages\\matplotlib\\backends\\backend_agg.py:457\u001b[0m, in \u001b[0;36mFigureCanvasAgg._print_pil\u001b[1;34m(self, filename_or_obj, fmt, pil_kwargs, metadata)\u001b[0m\n\u001b[0;32m    452\u001b[0m \u001b[38;5;28;01mdef\u001b[39;00m \u001b[38;5;21m_print_pil\u001b[39m(\u001b[38;5;28mself\u001b[39m, filename_or_obj, fmt, pil_kwargs, metadata\u001b[38;5;241m=\u001b[39m\u001b[38;5;28;01mNone\u001b[39;00m):\n\u001b[0;32m    453\u001b[0m \u001b[38;5;250m    \u001b[39m\u001b[38;5;124;03m\"\"\"\u001b[39;00m\n\u001b[0;32m    454\u001b[0m \u001b[38;5;124;03m    Draw the canvas, then save it using `.image.imsave` (to which\u001b[39;00m\n\u001b[0;32m    455\u001b[0m \u001b[38;5;124;03m    *pil_kwargs* and *metadata* are forwarded).\u001b[39;00m\n\u001b[0;32m    456\u001b[0m \u001b[38;5;124;03m    \"\"\"\u001b[39;00m\n\u001b[1;32m--> 457\u001b[0m     FigureCanvasAgg\u001b[38;5;241m.\u001b[39mdraw(\u001b[38;5;28mself\u001b[39m)\n\u001b[0;32m    458\u001b[0m     mpl\u001b[38;5;241m.\u001b[39mimage\u001b[38;5;241m.\u001b[39mimsave(\n\u001b[0;32m    459\u001b[0m         filename_or_obj, \u001b[38;5;28mself\u001b[39m\u001b[38;5;241m.\u001b[39mbuffer_rgba(), \u001b[38;5;28mformat\u001b[39m\u001b[38;5;241m=\u001b[39mfmt, origin\u001b[38;5;241m=\u001b[39m\u001b[38;5;124m\"\u001b[39m\u001b[38;5;124mupper\u001b[39m\u001b[38;5;124m\"\u001b[39m,\n\u001b[0;32m    460\u001b[0m         dpi\u001b[38;5;241m=\u001b[39m\u001b[38;5;28mself\u001b[39m\u001b[38;5;241m.\u001b[39mfigure\u001b[38;5;241m.\u001b[39mdpi, metadata\u001b[38;5;241m=\u001b[39mmetadata, pil_kwargs\u001b[38;5;241m=\u001b[39mpil_kwargs)\n",
            "File \u001b[1;32mc:\\Users\\shali\\anaconda3\\Lib\\site-packages\\matplotlib\\backends\\backend_agg.py:394\u001b[0m, in \u001b[0;36mFigureCanvasAgg.draw\u001b[1;34m(self)\u001b[0m\n\u001b[0;32m    392\u001b[0m \u001b[38;5;28;01mdef\u001b[39;00m \u001b[38;5;21mdraw\u001b[39m(\u001b[38;5;28mself\u001b[39m):\n\u001b[0;32m    393\u001b[0m     \u001b[38;5;66;03m# docstring inherited\u001b[39;00m\n\u001b[1;32m--> 394\u001b[0m     \u001b[38;5;28mself\u001b[39m\u001b[38;5;241m.\u001b[39mrenderer \u001b[38;5;241m=\u001b[39m \u001b[38;5;28mself\u001b[39m\u001b[38;5;241m.\u001b[39mget_renderer()\n\u001b[0;32m    395\u001b[0m     \u001b[38;5;28mself\u001b[39m\u001b[38;5;241m.\u001b[39mrenderer\u001b[38;5;241m.\u001b[39mclear()\n\u001b[0;32m    396\u001b[0m     \u001b[38;5;66;03m# Acquire a lock on the shared font cache.\u001b[39;00m\n",
            "File \u001b[1;32mc:\\Users\\shali\\anaconda3\\Lib\\site-packages\\matplotlib\\_api\\deprecation.py:384\u001b[0m, in \u001b[0;36mdelete_parameter.<locals>.wrapper\u001b[1;34m(*inner_args, **inner_kwargs)\u001b[0m\n\u001b[0;32m    379\u001b[0m \u001b[38;5;129m@functools\u001b[39m\u001b[38;5;241m.\u001b[39mwraps(func)\n\u001b[0;32m    380\u001b[0m \u001b[38;5;28;01mdef\u001b[39;00m \u001b[38;5;21mwrapper\u001b[39m(\u001b[38;5;241m*\u001b[39minner_args, \u001b[38;5;241m*\u001b[39m\u001b[38;5;241m*\u001b[39minner_kwargs):\n\u001b[0;32m    381\u001b[0m     \u001b[38;5;28;01mif\u001b[39;00m \u001b[38;5;28mlen\u001b[39m(inner_args) \u001b[38;5;241m<\u001b[39m\u001b[38;5;241m=\u001b[39m name_idx \u001b[38;5;129;01mand\u001b[39;00m name \u001b[38;5;129;01mnot\u001b[39;00m \u001b[38;5;129;01min\u001b[39;00m inner_kwargs:\n\u001b[0;32m    382\u001b[0m         \u001b[38;5;66;03m# Early return in the simple, non-deprecated case (much faster than\u001b[39;00m\n\u001b[0;32m    383\u001b[0m         \u001b[38;5;66;03m# calling bind()).\u001b[39;00m\n\u001b[1;32m--> 384\u001b[0m         \u001b[38;5;28;01mreturn\u001b[39;00m func(\u001b[38;5;241m*\u001b[39minner_args, \u001b[38;5;241m*\u001b[39m\u001b[38;5;241m*\u001b[39minner_kwargs)\n\u001b[0;32m    385\u001b[0m     arguments \u001b[38;5;241m=\u001b[39m signature\u001b[38;5;241m.\u001b[39mbind(\u001b[38;5;241m*\u001b[39minner_args, \u001b[38;5;241m*\u001b[39m\u001b[38;5;241m*\u001b[39minner_kwargs)\u001b[38;5;241m.\u001b[39marguments\n\u001b[0;32m    386\u001b[0m     \u001b[38;5;28;01mif\u001b[39;00m is_varargs \u001b[38;5;129;01mand\u001b[39;00m arguments\u001b[38;5;241m.\u001b[39mget(name):\n",
            "File \u001b[1;32mc:\\Users\\shali\\anaconda3\\Lib\\site-packages\\matplotlib\\backends\\backend_agg.py:411\u001b[0m, in \u001b[0;36mFigureCanvasAgg.get_renderer\u001b[1;34m(self, cleared)\u001b[0m\n\u001b[0;32m    409\u001b[0m reuse_renderer \u001b[38;5;241m=\u001b[39m (\u001b[38;5;28mself\u001b[39m\u001b[38;5;241m.\u001b[39m_lastKey \u001b[38;5;241m==\u001b[39m key)\n\u001b[0;32m    410\u001b[0m \u001b[38;5;28;01mif\u001b[39;00m \u001b[38;5;129;01mnot\u001b[39;00m reuse_renderer:\n\u001b[1;32m--> 411\u001b[0m     \u001b[38;5;28mself\u001b[39m\u001b[38;5;241m.\u001b[39mrenderer \u001b[38;5;241m=\u001b[39m RendererAgg(w, h, \u001b[38;5;28mself\u001b[39m\u001b[38;5;241m.\u001b[39mfigure\u001b[38;5;241m.\u001b[39mdpi)\n\u001b[0;32m    412\u001b[0m     \u001b[38;5;28mself\u001b[39m\u001b[38;5;241m.\u001b[39m_lastKey \u001b[38;5;241m=\u001b[39m key\n\u001b[0;32m    413\u001b[0m \u001b[38;5;28;01melif\u001b[39;00m cleared:\n",
            "File \u001b[1;32mc:\\Users\\shali\\anaconda3\\Lib\\site-packages\\matplotlib\\backends\\backend_agg.py:84\u001b[0m, in \u001b[0;36mRendererAgg.__init__\u001b[1;34m(self, width, height, dpi)\u001b[0m\n\u001b[0;32m     82\u001b[0m \u001b[38;5;28mself\u001b[39m\u001b[38;5;241m.\u001b[39mwidth \u001b[38;5;241m=\u001b[39m width\n\u001b[0;32m     83\u001b[0m \u001b[38;5;28mself\u001b[39m\u001b[38;5;241m.\u001b[39mheight \u001b[38;5;241m=\u001b[39m height\n\u001b[1;32m---> 84\u001b[0m \u001b[38;5;28mself\u001b[39m\u001b[38;5;241m.\u001b[39m_renderer \u001b[38;5;241m=\u001b[39m _RendererAgg(\u001b[38;5;28mint\u001b[39m(width), \u001b[38;5;28mint\u001b[39m(height), dpi)\n\u001b[0;32m     85\u001b[0m \u001b[38;5;28mself\u001b[39m\u001b[38;5;241m.\u001b[39m_filter_renderers \u001b[38;5;241m=\u001b[39m []\n\u001b[0;32m     87\u001b[0m \u001b[38;5;28mself\u001b[39m\u001b[38;5;241m.\u001b[39m_update_methods()\n",
            "\u001b[1;31mValueError\u001b[0m: Image size of 859x418963 pixels is too large. It must be less than 2^16 in each direction."
          ]
        },
        {
          "data": {
            "text/plain": [
              "<Figure size 1000x600 with 1 Axes>"
            ]
          },
          "metadata": {},
          "output_type": "display_data"
        }
      ],
      "source": [
        "# write your code for the above part here\n",
        "# write your code for the above part here\n",
        "# write your code for the above part here\n",
        "# Import necessary libraries\n",
        "\n",
        "\n",
        "import numpy as np\n",
        "from gymnasium import spaces\n",
        "from gymnasium.utils import seeding\n",
        "import gymnasium as gym\n",
        "import matplotlib.pyplot as plt\n",
        "\n",
        "\n",
        "class ArmedBanditsEnv(gym.Env):\n",
        "    def __init__(self, delta):\n",
        "        super(ArmedBanditsEnv, self).__init__()\n",
        "        #define action and observation space\n",
        "        self.delta = delta\n",
        "        self.action_space = spaces.Discrete(2) #two arms\n",
        "        self.observation_space = spaces.Discrete(1) #discrete choices between two options\n",
        "        self.true_means = [0.5, 0.5 + self.delta] #armed bandit parameters\n",
        "        self.step_count = 0 #tracking the current time step\n",
        "        self.seed_value = None\n",
        "\n",
        "    def reset(self):\n",
        "        self.step_count = 0 #reseting the environment to the initial state\n",
        "        return np.array([0.0])\n",
        "    \n",
        "    def step(self, action):\n",
        "        #stimulate bandit step by taking action(choosing arm)\n",
        "        reward = np.random.binomial(1, self.true_means[action])\n",
        "        self.step_count += 1\n",
        "        done = self.step_count >= T #if time horizon is reached\n",
        "        return np.array([0.0]), reward, done, {}\n",
        "    \n",
        "    def render(self):\n",
        "        pass\n",
        "\n",
        "    def seed(self, seed = None):\n",
        "        self.seed_value = seed\n",
        "        np.random.seed(seed)\n",
        "    \n",
        "    def close(self):\n",
        "        pass #cleanup and closing logic\n",
        " \n",
        "#ETC Algorithm\n",
        "def etc_algorithm(env, T, exploration_factor):\n",
        "        #simulates the ETC algorithm\n",
        "        m = int(T ** (2/3)/ (np.log(T))**(1/3)) #exploration thresold\n",
        "        total_reward = 0 \n",
        "        cumulative_regret = []\n",
        "\n",
        "        for n in range(T):\n",
        "            #deciding whether to explore or exploit\n",
        "            if n % m == 0:\n",
        "                action = np.random.randint(2) #exploring\n",
        "            else:\n",
        "                action = np.argmax([0.5, 0.5 + env.delta])  #exploiting\n",
        "\n",
        "            _, reward, _, _ = env.step(action)\n",
        "            total_reward += reward #updating reward\n",
        "            regret = T *(0.5 + env.delta) - total_reward #diff between expected max reward and total obtained reward\n",
        "            cumulative_regret.append(regret)\n",
        "        return cumulative_regret\n",
        "\n",
        "#UCB Algorithm\n",
        "def ucb_algorithm(env, T, c):\n",
        "    total_reward = 0 #cummulative\n",
        "    action_value = np.zeros(2) \n",
        "    action_counts = np.zeros(2) #number of times each arm has been explored \n",
        "    cumulative_regret = []  \n",
        "\n",
        "    for n in range(T):\n",
        "        exploration_bonus = c * np.sqrt(np.log(n + 1) /(2* action_counts))  #value of epsilon is squareroot of log(T)/n(a)\n",
        "        ucb_values = action_value + exploration_bonus\n",
        "        action = np.argmax(ucb_values)\n",
        "        _, reward, _, _ =env.step(action)\n",
        "        total_reward += reward\n",
        "        #updating action values and counts\n",
        "        action_value[action] += (reward - action_value[action]) / (action_counts[action] + 1)\n",
        "        action_counts[action] += 1\n",
        "        regret = T * (0.5 + env.delta) - total_reward\n",
        "        cumulative_regret.append(regret)\n",
        "    return cumulative_regret\n",
        "#parameters   \n",
        "#monte carlo simulations\n",
        "number_of_experiments = 500\n",
        "delta_values = [0.05,0.1,0.2,0.3,0.4,0.45]\n",
        "\n",
        "T = 10000\n",
        "exploration_factor = 1.0\n",
        "c = 2.0\n",
        "regret_results_etc = []\n",
        "regret_results_ucb = []\n",
        "\n",
        "\n",
        "for delta in delta_values:\n",
        "    total_regret_etc = 0\n",
        "    total_regret_ucb = 0\n",
        "    \n",
        "    for _ in range(number_of_experiments):\n",
        "        env_etc = ArmedBanditsEnv(delta)\n",
        "        env_etc.seed()\n",
        "        cumulative_regret_etc = etc_algorithm(env_etc, T, exploration_factor)\n",
        "        total_regret_etc += np.array(cumulative_regret_etc)\n",
        "\n",
        "        env_ucb = ArmedBanditsEnv(delta)\n",
        "        cumulative_regret_ucb = etc_algorithm(env_ucb, T, exploration_factor)\n",
        "        total_regret_ucb += np.array(cumulative_regret_ucb)\n",
        "\n",
        "\n",
        "    avg_regret_etc = total_regret_etc / number_of_experiments\n",
        "    regret_results_etc.append(avg_regret_etc)\n",
        "\n",
        "    avg_regret_ucb = total_regret_ucb / number_of_experiments\n",
        "    regret_results_ucb.append(avg_regret_ucb)\n",
        "\n",
        "\n",
        "#Plotting comparision betweeen ETC and UCB Algorithms as a function of delta\n",
        "plt.plot(delta_values, regret_results_etc, marker= 'o', label = 'ETC')\n",
        "plt.plot(delta_values, regret_results_ucb, marker= 'o', label = 'UCB')\n",
        "plt.xlabel('$\\Delta$') #latex mode for delta symbol\n",
        "plt.ylabel('Regret')\n",
        "plt.title('Comparision of ETC and UCB Algorithms')\n",
        "plt.legend()\n",
        "#show the figure\n",
        "plt.show()\n"
      ]
    },
    {
      "cell_type": "markdown",
      "metadata": {},
      "source": [
        "### B4\n",
        " In the ETC algorithm, assume that we know $\\Delta$, and choose a better $m$ as function of $\\Delta$ and repeat the experiments and compare with UCB. What did you observe?\n",
        "\n",
        "Hint: Check how many samples of exploration are required to make $\\epsilon < \\frac{\\Delta}{2}$ with a high probability of $1-\\frac{1}{T}$. `[5 Marks]`"
      ]
    },
    {
      "cell_type": "code",
      "execution_count": 34,
      "metadata": {},
      "outputs": [
        {
          "data": {
            "image/png": "[encoded data removed]",
            "text/plain": [
              "<Figure size 640x480 with 1 Axes>"
            ]
          },
          "metadata": {},
          "output_type": "display_data"
        }
      ],
      "source": [
        "# write your code for the above part here\n",
        "# write your code for the above part here\n",
        "# write your code for the above part here\n",
        "# Import necessary libraries\n",
        "\n",
        "import numpy as np\n",
        "from gymnasium import spaces\n",
        "from gymnasium.utils import seeding\n",
        "import gymnasium as gym\n",
        "import matplotlib.pyplot as plt\n",
        "\n",
        "\n",
        "class ArmedBanditsEnv(gym.Env):\n",
        "    def __init__(self, delta):\n",
        "        super(ArmedBanditsEnv, self).__init__()\n",
        "        #define action and observation space\n",
        "        self.delta = delta\n",
        "        self.action_space = spaces.Discrete(2) #two arms\n",
        "        self.observation_space = spaces.Discrete(1)\n",
        "        self.true_means = [0.5, 0.5 + self.delta]\n",
        "        self.step_count = 0 #time step count\n",
        "        self.seed_value = None\n",
        "    def reset(self):\n",
        "        self.step_count = 0\n",
        "        return np.array([0.0])\n",
        "    def step(self, action):\n",
        "        reward = np.random.binomial(1, self.true_means[action])\n",
        "        self.step_count += 1\n",
        "        done = self.step_count >= T\n",
        "        return np.array([0.0]), reward, done, {}\n",
        "    def render(self):\n",
        "         pass\n",
        "    def seed(self, seed = None):\n",
        "        self.seed_value = seed\n",
        "        np.random.seed(seed) \n",
        "    def close(self):\n",
        "        pass #cleanup and closing logic\n",
        "\n",
        "#ETC Algorithm  \n",
        "def improved_etc_algorithm(env, T, delta):\n",
        "        m = int(np.ceil(np.log(2*T)/delta**2)) #based on delta value (sub optimality)\n",
        "        total_reward = 0\n",
        "\n",
        "        for n in range(T):\n",
        "            if n % m == 0:\n",
        "                action = np.random.randint(2)\n",
        "            else:\n",
        "                action = np.argmax([0.5, 0.5 + env.delta])\n",
        "\n",
        "            _, reward, _, _ = env.step(action)\n",
        "            total_reward += reward\n",
        "            regret = T *(0.5 + env.delta) - total_reward\n",
        "        return regret\n",
        "#parameters   \n",
        "#monte carlo simulations\n",
        "number_of_experiments = 500\n",
        "delta_values = [0.05,0.1,0.2,0.3,0.4,0.45]\n",
        "c_ucb = 2.0\n",
        "T = 10000\n",
        "exploration_factor = 1.0\n",
        "regret_results_improved_etc= []\n",
        "regret_results_ucb = []\n",
        "\n",
        "for delta in delta_values:\n",
        "    total_regret_improved_etc = 0\n",
        "    total_regret_ucb = 0\n",
        "    \n",
        "    \n",
        "    for _ in range(number_of_experiments):\n",
        "        env_improved_etc = ArmedBanditsEnv(delta)\n",
        "        regret_improved_etc = improved_etc_algorithm(env_improved_etc, T, delta)\n",
        "        total_regret_improved_etc += regret_improved_etc\n",
        "        \n",
        "        env_ucb = ArmedBanditsEnv(delta)\n",
        "        regret_ucb = improved_etc_algorithm(env_ucb, T, c_ucb)\n",
        "        total_regret_ucb += regret_ucb\n",
        "\n",
        "    avg_regret_improved_etc = total_regret_improved_etc / number_of_experiments\n",
        "    regret_results_improved_etc.append(avg_regret_improved_etc)\n",
        "\n",
        "    avg_regret_ucb = total_regret_ucb / number_of_experiments\n",
        "    regret_results_ucb.append(avg_regret_ucb)\n",
        "\n",
        "plt.plot(delta_values, regret_results_improved_etc, marker= 'o', label = 'Improved ETC')\n",
        "plt.plot(delta_values, regret_results_ucb, marker= 'o',label ='UCB')\n",
        "plt.xlabel('$\\Delta$')\n",
        "plt.ylabel('Regret')\n",
        "plt.title('Comparision of Improved ETC and UCB Algorithms')\n",
        "plt.legend()\n",
        "#show the figure\n",
        "plt.show()"
      ]
    }
  ],
  "metadata": {
    "colab": {
      "provenance": []
    },
    "kernelspec": {
      "display_name": "Python 3 (ipykernel)",
      "language": "python3",
      "name": "python3"
    },
    "language_info": {
      "codemirror_mode": {
        "name": "ipython",
        "version": 3
      },
      "file_extension": ".py",
      "mimetype": "text/x-python",
      "name": "python",
      "nbconvert_exporter": "python",
      "pygments_lexer": "ipython3",
      "version": "3.11.5"
    }
  },
  "nbformat": 4,
  "nbformat_minor": 0
}
